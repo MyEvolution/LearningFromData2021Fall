{
 "cells": [
  {
   "cell_type": "markdown",
   "metadata": {},
   "source": [
    "## Naive Bayes\n",
    "In class we have learned Bernoulli naive Bayes model. In this section, we will apply Bernoulli naive Bayes model on a classification task. We are going to use `numpy` and `matplotlib` in Python, the first thing we need to do is to import the packages."
   ]
  },
  {
   "cell_type": "code",
   "execution_count": 1,
   "metadata": {},
   "outputs": [],
   "source": [
    "import numpy as np\n",
    "import matplotlib.pyplot as plt\n",
    "# we recommand you to fix the random seed at the start for debugging\n",
    "np.random.seed(2021)"
   ]
  },
  {
   "cell_type": "markdown",
   "metadata": {},
   "source": [
    "Our experiment consists of three steps:\n",
    "1. Load dataset\n",
    "2. Implement Bernoulli naive Bayes model\n",
    "3. Test the result\n",
    "\n",
    "You need to write some codes and answer some analytical questions during our experiment.\n",
    "\n",
    "### Load dataset\n",
    "[UCL Adult dataset](https://archive.ics.uci.edu/ml/datasets/adult) is a famous binary classification dataset from [UCI Machine Learning Repository](https://archive.ics.uci.edu/ml/index.php). It is used to predict whether income exceed \\$50K/year based on censurs data. The original dataset includes 48,842 samples. Each sample has 6 continuous features such as age, and 8 categorical features such as education. [LIBSVM dataset](https://www.csie.ntu.edu.tw/~cjlin/libsvmtools/datasets/binary.html) further transfers the continuous features and categorical features into 123 binary features. Our dataset, which is stored as `a1a.txt`, is drawn from LIBSVM dataset and contains 1,605 samples with 123 features in total. We use the first 1,000 samples as training set and others as test set. The following function will automatically parse the text file, divide samples as training set and test set and finally return them as `np.array` objects. "
   ]
  },
  {
   "cell_type": "code",
   "execution_count": 2,
   "metadata": {},
   "outputs": [
    {
     "name": "stdout",
     "output_type": "stream",
     "text": [
      "Processing line No.0.\n",
      "Processing line No.200.\n",
      "Processing line No.400.\n",
      "Processing line No.600.\n",
      "Processing line No.800.\n",
      "Processing line No.1000.\n",
      "Processing line No.1200.\n",
      "Processing line No.1400.\n",
      "Processing line No.1600.\n",
      "features of the first 10 samples:\n",
      "[[0. 0. 0. ... 0. 0. 0.]\n",
      " [0. 0. 0. ... 0. 0. 0.]\n",
      " [0. 0. 1. ... 0. 0. 0.]\n",
      " ...\n",
      " [0. 0. 0. ... 0. 0. 0.]\n",
      " [0. 0. 1. ... 0. 0. 0.]\n",
      " [0. 0. 0. ... 0. 0. 0.]]\n",
      "labels of the first 10 samples:\n",
      "[0 1 0 0 0 0 1 1 0 1]\n"
     ]
    }
   ],
   "source": [
    "def load_data(data_path=\"a1a.txt\"):\n",
    "    labels = []\n",
    "    x = None\n",
    "    with open(data_path, \"r\") as f:\n",
    "        for i,line in enumerate(f.readlines()):\n",
    "            if i % 200 == 0:\n",
    "                print(\"Processing line No.{}.\".format(i))\n",
    "            data_list = line.split()\n",
    "            label = (int(data_list[0]) + 1) / 2\n",
    "            feature_idx = [int(l.split(\":\")[0]) for l in data_list[1:]]\n",
    "            labels.append(label)\n",
    "            features = np.zeros(123)\n",
    "            features[feature_idx] = 1.0\n",
    "\n",
    "            if x is None:\n",
    "                x = features\n",
    "            else:\n",
    "                x = np.c_[x,features]\n",
    "\n",
    "    x = x.T\n",
    "    labels = np.array(labels).astype(int)\n",
    "    all_idx = np.arange(x.shape[0])\n",
    "    np.random.shuffle(all_idx)\n",
    "    X_train = x[all_idx[:1000]]\n",
    "    y_train = labels[all_idx[:1000]]\n",
    "    X_test  = x[all_idx[1000:]]\n",
    "    y_test  = labels[all_idx[1000:]]\n",
    "    return X_train, y_train, X_test, y_test\n",
    "# load the dataset\n",
    "# X_train: feature matrix of train set\n",
    "# y_train: labels of train set \n",
    "# X_test: feature matrix of test set\n",
    "# y_test: labels of test set \n",
    "X_train, y_train, X_test, y_test = load_data()\n",
    "print(\"features of the first 10 samples:\")\n",
    "print(X_train[:10])\n",
    "print(\"labels of the first 10 samples:\")\n",
    "print(y_train[:10])"
   ]
  },
  {
   "cell_type": "markdown",
   "metadata": {},
   "source": [
    "### Implement Bernoulli naive Bayes model\n",
    "Given sample $(\\boldsymbol x, y)$, where $\\boldsymbol x$ is the feature vector and $y$ is the label, naive Bayes assume $\\boldsymbol x_j$'s are conditionally independent given $y$:\n",
    "$$\n",
    "p(\\boldsymbol x, y)=p(y) p(\\boldsymbol x \\mid y)=p(y) \\prod_{j=1}^{n} p\\left(\\boldsymbol x_{j} \\mid y\\right).\n",
    "$$\n",
    "Because our task is a binary classification problem, we assume the label is randomly generated according to a Bernoulli distribution with $p(Y=1) = \\phi_{Y}$, i.e. $p(y) =\\phi_{Y}^{y}(1- \\phi_{{Y}})^{1-y}$. \n",
    "\n",
    "Bernoulli naive Bayes assume the features of data follow **multivariate Bernoulli distribution**, which means there may be multiple features but each feature follows a Bernoulli distribution given $y$ with $p\\left(\\boldsymbol x_{j}=1 \\mid y=b\\right)=\\phi_{j \\mid y=b}$, i.e. $p\\left(\\boldsymbol x_{j} \\mid y=b\\right)=\\phi_{j \\mid y=b}^{\\boldsymbol x_{j}}\\left(1-\\phi_{j \\mid y=b}\\right)^{1-\\boldsymbol x_{j}}$.\n",
    "\n",
    "Now we can write the likelihood of training data $\\left(\\boldsymbol x^{(1)}, y^{(1)}\\right), \\ldots,\\left(\\boldsymbol x^{(m)}, y^{(m)}\\right)$ as :\n",
    "$$\n",
    "L\\left(\\phi_{Y}, \\phi_{j \\mid y=0}, \\phi_{j \\mid y=1}\\right)=\\prod_{i=1}^{m} p\\left(\\boldsymbol x^{(i)}, y^{(i)}\\right),\n",
    "$$\n",
    "where $\\phi_{Y}, \\phi_{j \\mid y=0}, \\phi_{j \\mid y=1}$ are the model parameters to be estimated. The log-likelihood of above equation can be transformed as:\n",
    "$$\n",
    "\\begin{aligned}\n",
    "\\log L\\left(\\phi_{ Y}, \\phi_{j \\mid y=0}, \\phi_{j \\mid y=1}\\right) &=\\sum_{i=1}^{m} \\log p\\left(\\boldsymbol x^{(i)}, y^{(i)}\\right) \\\\\n",
    "&=\\sum_{i=1}^{m} \\log \\left(p\\left(y^{(i)}\\right) \\prod_{j=1}^{d} p\\left(\\boldsymbol x_{j}^{(i)} \\mid y^{(i)}\\right)\\right) \\\\\n",
    "&=\\underbrace{\\sum_{i=1}^{m} \\log p\\left(y^{(i)}\\right)}_{(\\mathbf{I})}+\\underbrace{\\sum_{i=1}^{m} \\sum_{j=1}^{d} \\log p\\left(\\boldsymbol x_{j}^{(i)} \\mid y^{(i)}\\right)}_{(\\mathrm{II})}.\n",
    "\\end{aligned}\n",
    "$$\n",
    "Therefore, maximizing the log-likelihood function is equivalent to maximize $(\\mathrm{I})$ and $(\\mathrm{II})$. \n",
    "\n",
    "#### Q1.From $(\\mathrm{I})$, we can derive that the best estimator: $\\phi_Y = \\frac{\\text{count}_y(1)}{m}$, where $\\text{count}_y(b)$ is the number of samples with label $y=b$:\n",
    "$$\n",
    "\\text{count}_y(b)=\\sum_{i=1}^{m} \\mathbf{1}\\left\\{y^{(i)}=b\\right\\},\n",
    "$$\n",
    "#### and we have $\\text{count}_y(0) + \\text{count}_y(1) = m$.  Please write the full derivation of $\\phi_Y$."
   ]
  },
  {
   "cell_type": "markdown",
   "metadata": {},
   "source": [
    "**Your answer:** *You can choose to write your answer here, or submit another seperate pdf file or image. We recommend you to use LaTeX, but you can also choose to write the answer by hand and take a picture.*"
   ]
  },
  {
   "cell_type": "markdown",
   "metadata": {},
   "source": [
    "#### Q2. Complete following code to estimate $\\phi_Y$ from data."
   ]
  },
  {
   "cell_type": "code",
   "execution_count": 3,
   "metadata": {},
   "outputs": [
    {
     "name": "stdout",
     "output_type": "stream",
     "text": [
      "0.24\n"
     ]
    }
   ],
   "source": [
    "def estimatePhiY(y):\n",
    "    phi_y = np.random.rand()\n",
    "    \n",
    "    ## start of your code\n",
    "    phi_y = np.sum(y) / y.shape[0]    \n",
    "    \n",
    "    ## end of your code\n",
    "    \n",
    "    return phi_y\n",
    "phi_y = estimatePhiY(y_train)\n",
    "print(phi_y)"
   ]
  },
  {
   "cell_type": "markdown",
   "metadata": {},
   "source": [
    "#### Q3. Similar to Question #1, from $(\\mathrm{II})$, the maximum likelihood estimate of $\\phi_{j \\mid y=b}$ can be shown as:\n",
    "$$\n",
    "\\phi_{j \\mid y=b}=\\frac{\\text{count}_{j,y}(1,b)}{\\text{count}_y(b) } \\text { for } b=1,0,\n",
    "$$\n",
    "#### where $\\text{count}_{j,y}(a,b)$ is the number of samples with $j$-th feature $x_j = a$ and label $y=b$, i.e.\n",
    "$$\n",
    "\\text{count}_{j,y}(a,b) = \\sum_{i=1}^{m} \\mathbf{1}\\left\\{x_{j}^{(i)}=a, y^{(i)}=b\\right\\}.\n",
    "$$ \n",
    "#### and we have $\\text{count}_{j,y}(1,b) + \\text{count}_{j,y}(0,b) = \\text{count}_y(b)$.  Please write the full derivation for $\\phi_{j \\mid y=b}$ ."
   ]
  },
  {
   "cell_type": "markdown",
   "metadata": {},
   "source": [
    "**Your answer:** *You can choose to write your answer here, or submit another seperate pdf file or image. We recommend you to use LaTeX, but you can also choose to write the answer by hand and take a picture.*"
   ]
  },
  {
   "cell_type": "markdown",
   "metadata": {},
   "source": [
    "In practice, we also add Laplace smoothing when estimating $\\phi_{j \\mid y=b}$, so the final estimator becomes:\n",
    "$$\n",
    "\\phi_{j \\mid y=b}=\\frac{\\text{count}_{j,y}(1,b) + 1}{\\text{count}_y(b) + 2} \\text { for } b=1,0.\n",
    "$$\n",
    "#### Q4. Now, complete following code to estimate $\\phi_{j \\mid y=b}$."
   ]
  },
  {
   "cell_type": "code",
   "execution_count": 4,
   "metadata": {},
   "outputs": [],
   "source": [
    "def estimatePhiX(X, y):\n",
    "    phi_x_y1 = np.random.rand(X.shape[1])\n",
    "    phi_x_y0 = np.random.rand(X.shape[1])\n",
    "    \n",
    "    ## start of your code\n",
    "    ## don't forget Laplace smoothing\n",
    "    phi_x_y1 = (np.sum(X.T * y, axis=1) + 1 ) / (np.sum(y) + 2)\n",
    "    phi_x_y0 = (np.sum(X.T * (1 - y),axis=1) + 1) /(y.shape[0] - np.sum(y) + 2)    \n",
    "    \n",
    "    ## end of your code\n",
    "    \n",
    "    return  phi_x_y1, phi_x_y0\n",
    "phi_x_y1, phi_x_y0 = estimatePhiX(X_train, y_train)"
   ]
  },
  {
   "cell_type": "markdown",
   "metadata": {},
   "source": [
    "Once we have the parameters, we can make predictions. Given a new sample with feature vector $\\boldsymbol x$, the posterior probability is computed through:\n",
    "$$\n",
    "\\begin{aligned}\n",
    "p(y=1 \\mid \\boldsymbol x) &=\\frac{p(x \\mid y=1) p(y=1)}{p(\\boldsymbol x)} \\\\\n",
    "&=\\frac{p(\\boldsymbol x \\mid y=1) p(y=1)}{p(\\boldsymbol x \\mid y=1) p(y=1)+p(\\boldsymbol x \\mid y=0) p(y=0)} \\\\\n",
    "&=\\frac{\\prod_{j=1}^{n} p\\left(\\boldsymbol x_{j} \\mid y=1\\right) p(y=1)}{\\prod_{j=1}^{n} p\\left(x_{j} \\mid y=1\\right) p(y=1)+\\prod_{j=1}^{n} p\\left(\\boldsymbol x_{j} \\mid y=0\\right) p(y=0)}\\\\\n",
    "&= \\frac{\\prod_{j=1}^{n} \\phi_{j\\mid y=1}^{\\boldsymbol x_j}\\left(1-\\phi_{j\\mid y=1}\\right)^{1 - \\boldsymbol x_j} \\phi_{Y}}{ \\prod_{j=1}^{n}\\phi_{j\\mid y=1}^{\\boldsymbol x_j}\\left(1 - \\phi_{j\\mid y=1}\\right)^{1 - \\boldsymbol x_j} \\phi_{Y}+\\prod_{j=1}^{n}\\phi_{j\\mid y=0}^{\\boldsymbol x_j} \\left(1 - \\phi_{j\\mid y = 0}\\right)^{1 - \\boldsymbol x_j} (1 -\\phi_{Y})}\n",
    "\\end{aligned}\n",
    "$$\n",
    "\n",
    "The labels can be determined based on the probability with a threhold $t$:\n",
    "$$\n",
    "{y} = \\left\\{\n",
    "\\begin{matrix}\n",
    "1 & {\\text{if } {p(y= 1\\mid\\boldsymbol x ) } > t}\\\\\n",
    "0 & \\text{otherwise}.\n",
    "\\end{matrix}\\right.\n",
    "$$\n",
    "We can simply set $t = 0.5$."
   ]
  },
  {
   "cell_type": "markdown",
   "metadata": {},
   "source": [
    "#### Q5. Now, please the complete following code to compute posterior probability $p(y=1|\\mathbf{x})$ and get the labels. "
   ]
  },
  {
   "cell_type": "code",
   "execution_count": 5,
   "metadata": {},
   "outputs": [],
   "source": [
    "def predict(phi_x_y1, phi_x_y0, phi_y, X, t = 0.5):\n",
    "    prob = np.random.rand(X.shape[0])\n",
    "    predicted_y = np.ones(X.shape[0], dtype=int)\n",
    "    \n",
    "    ## start of your code    \n",
    "    py1 = np.prod(X * phi_x_y1 + (1 - X) * (1 - phi_x_y1), axis = 1) * phi_y\n",
    "    py0 = np.prod(X * phi_x_y0 + (1 - X) * (1 - phi_x_y0), axis = 1) * (1 - phi_y)\n",
    "    \n",
    "    prob = py1 / (py1 + py0)    \n",
    "    predicted_y = (prob >= t).astype(int)    \n",
    "    \n",
    "    ## end of your code\n",
    "    \n",
    "    return prob, predicted_y"
   ]
  },
  {
   "cell_type": "markdown",
   "metadata": {},
   "source": [
    "### Test the result"
   ]
  },
  {
   "cell_type": "markdown",
   "metadata": {},
   "source": [
    "With the optimal parameters, we can do the prediction. Firstly, let us see how our model works on the train set. Apply `predict` function on train set to get the probability and labels. "
   ]
  },
  {
   "cell_type": "code",
   "execution_count": 6,
   "metadata": {},
   "outputs": [],
   "source": [
    "# set the threshold\n",
    "threshold = 0.5\n",
    "prob_train, predicted_y_train = predict(phi_x_y1, phi_x_y0, phi_y, X_train, threshold)"
   ]
  },
  {
   "cell_type": "markdown",
   "metadata": {},
   "source": [
    "The input of following function are label vector and probability, and an optional threshold. It will plot the probability. Samples with different labels will be denoted using different markers for better illustration."
   ]
  },
  {
   "cell_type": "code",
   "execution_count": 7,
   "metadata": {},
   "outputs": [
    {
     "data": {
      "image/png": "[encoded data removed]",
      "text/plain": [
       "<Figure size 1080x576 with 1 Axes>"
      ]
     },
     "metadata": {
      "needs_background": "light"
     },
     "output_type": "display_data"
    }
   ],
   "source": [
    "def plot_probability(y, prob, t=0.5):\n",
    "    plt.figure(figsize=(15, 8))\n",
    "    x = np.arange(1, y.shape[0]+1)\n",
    "    x1 = np.extract(y == 1, x)\n",
    "    x0 = np.extract(y == 0, x)\n",
    "    prob1 = np.extract(y == 1, prob)\n",
    "    prob0 = np.extract(y == 0, prob)\n",
    "    plt.scatter(x1, prob1, label=\"y=1\")\n",
    "    plt.scatter(x0, prob0, label=\"y=0\", marker=\"+\")\n",
    "    plt.xlabel(\"Sample ID\")\n",
    "    plt.ylabel(\"Posterior probability\")\n",
    "    plt.hlines(y=t, xmin=x[0], xmax=x[-1], color=\"gray\", label=\"threshold\", linestyles = \"dashed\")\n",
    "    plt.legend()\n",
    "plot_probability(y_train, prob_train, threshold)"
   ]
  },
  {
   "cell_type": "markdown",
   "metadata": {},
   "source": [
    "Here we also define a function to compute the accuracy. "
   ]
  },
  {
   "cell_type": "code",
   "execution_count": 8,
   "metadata": {},
   "outputs": [
    {
     "name": "stdout",
     "output_type": "stream",
     "text": [
      "0.799\n"
     ]
    }
   ],
   "source": [
    "def accuracy(pred_y, y):\n",
    "    return np.sum((pred_y == y).astype(float) ) / y.shape[0] \n",
    "print(accuracy(predicted_y_train, y_train))"
   ]
  },
  {
   "cell_type": "markdown",
   "metadata": {},
   "source": [
    "We can also adjust threshold $t$ according to the probability figure and result to achieve higher accuracy. \n",
    "\n",
    "If you have already gotten some good results on train set, we can do the prediction on test set. **Note that if your implementation is correct and threshold is set to $0.5$, your accuracy should be higher than $0.75$.**"
   ]
  },
  {
   "cell_type": "code",
   "execution_count": 9,
   "metadata": {},
   "outputs": [
    {
     "name": "stdout",
     "output_type": "stream",
     "text": [
      "0.8066115702479338\n"
     ]
    },
    {
     "data": {
      "image/png": "[encoded data removed]",
      "text/plain": [
       "<Figure size 1080x576 with 1 Axes>"
      ]
     },
     "metadata": {
      "needs_background": "light"
     },
     "output_type": "display_data"
    }
   ],
   "source": [
    "prob_test, predicted_y_test = predict(phi_x_y1, phi_x_y0, phi_y, X_test, threshold)\n",
    "plot_probability(y_test, prob_test, threshold)\n",
    "print(accuracy(predicted_y_test, y_test))"
   ]
  },
  {
   "cell_type": "markdown",
   "metadata": {},
   "source": [
    "### Analytical problem\n",
    "#### Q6. Try to remove Laplace smoothing and further test the results. Explain the role of Laplace smoothing based on your experiments."
   ]
  },
  {
   "cell_type": "markdown",
   "metadata": {},
   "source": [
    "**You answer:**"
   ]
  }
 ],
 "metadata": {
  "kernelspec": {
   "display_name": "Python 3",
   "language": "python",
   "name": "python3"
  },
  "language_info": {
   "codemirror_mode": {
    "name": "ipython",
    "version": 3
   },
   "file_extension": ".py",
   "mimetype": "text/x-python",
   "name": "python",
   "nbconvert_exporter": "python",
   "pygments_lexer": "ipython3",
   "version": "3.7.0"
  }
 },
 "nbformat": 4,
 "nbformat_minor": 4
}
