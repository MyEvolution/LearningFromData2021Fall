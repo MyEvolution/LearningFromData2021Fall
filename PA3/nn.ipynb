{
 "cells": [
  {
   "cell_type": "markdown",
   "metadata": {},
   "source": [
    "## Backpropagation and Neural Networks\n",
    "In class we have learned backpropagation algorithm and neural networks. In this section, we will build a simple neural network and use packpropagation algorithm to train the model to fit an arbitrary function. We are going to use `numpy` and `matplotlib` in Python, first let us import these packages."
   ]
  },
  {
   "cell_type": "code",
   "execution_count": 1,
   "metadata": {},
   "outputs": [],
   "source": [
    "%matplotlib inline\n",
    "import numpy as np\n",
    "import matplotlib.pyplot as plt"
   ]
  },
  {
   "cell_type": "markdown",
   "metadata": {},
   "source": [
    "Our experiment consists of three steps:\n",
    "1. Model implementation, including linear layer, several activation functions and MSE-loss.\n",
    "2. Generate training set and train our model. \n",
    "3. Analytical questions and bonus.\n",
    "\n",
    "You need to write some codes and answer some analytical questions during our experiment.\n",
    "\n",
    "### Model implementation\n",
    "#### Basic knowledge\n",
    "A neural network may consist of multiple layers, which includes input layer, output layer and multiple hidden layers. \n",
    "Each layer could do both forward propagation and backward propagation. Now, assume current layer is the $l$-th layer, and we denote current layer as a function $f(X, W)$, where $X$ is the input data and $W$ is the weights. *Note that some types of layers don't have weights, which means they don't need to be updated.\n",
    "\n",
    "In forward propagation, the layer takes input data $X$ and computes the output $Y = f(X, W)$, which will be used as input data of $(l+1)$-th layer. \n",
    "\n",
    "Backward propagation is a little more complicated. Denote the loss function of model as $\\mathcal L$. In backward propagation, we firstly receive a output gradient $\\frac{\\partial \\mathcal L}{\\partial f}$ which is passed from the $(L+1)$-th layer. What we want is to compute the gradients of $X$ and $W$. According to the chain rule, we have:\n",
    "$$\n",
    "\\frac{\\partial \\mathcal L}{\\partial X} = \\frac{\\partial \\mathcal L}{\\partial f}\\frac{\\partial f}{\\partial X},\n",
    "\\frac{\\partial \\mathcal L}{\\partial W} = \\frac{\\partial \\mathcal L}{\\partial f}\\frac{\\partial f}{\\partial W}.\n",
    "$$\n",
    "Further, $\\frac{\\partial \\mathcal L}{\\partial X}$ will be backward-passed to the $(l-1)$-th layer, and $\\frac{\\partial \\mathcal L}{\\partial W}$ can be used to update the weights.\n",
    "\n",
    "#### Base class\n",
    "Because all layers need to do forward propagation and backward propagation, we will define a base class first. All kinds of other layers will be derived from this class. "
   ]
  },
  {
   "cell_type": "code",
   "execution_count": 2,
   "metadata": {},
   "outputs": [],
   "source": [
    "class Module:\n",
    "    def __init__(self):\n",
    "        self.with_weights = False\n",
    "        pass\n",
    "    def forward(self):\n",
    "        pass\n",
    "    def backward(self):\n",
    "        pass\n",
    "    def __call__(self, *inputs, **kwargs):\n",
    "        return self.forward(*inputs, **kwargs)\n",
    "# learning rate"
   ]
  },
  {
   "cell_type": "markdown",
   "metadata": {},
   "source": [
    "Note that we define the `__call__` method, which make the class callable. This means we can call the object of `Module` class like a function:\n",
    "```py\n",
    "model = Module()\n",
    "# equavilent to model.__call__()\n",
    "model()\n",
    "```\n",
    "In `__call__` function, we pass the parameters to `forward` function and return the results. So we could write *pytorch*-style code and do forward propagation by call the object. \n",
    "```py\n",
    "# forward propagation\n",
    "# equavilent to model.forward(input)\n",
    "model(input)\n",
    "```\n",
    "#### Linear layer\n",
    "A linear unit applies a linear transformation to the incoming data:\n",
    "$$\n",
    "\\mathbf y =  \\boldsymbol w^T \\boldsymbol x + b,\n",
    "$$\n",
    "where $\\boldsymbol x \\in \\mathbb R^{n}$ is the input array, $\\boldsymbol w \\in \\mathbb R^{n}$ is the weight and $b \\in \\mathbb R$ is the bias. Here, $n$ is the input dimension. \n",
    "\n",
    "![](./fig1.png) \n",
    "\n",
    "A linear layer consists of multiple linear units, the number of linear units also determines the output dimension:\n",
    "\n",
    "![](./fig2.png) \n",
    "\n",
    "We use $W \\in \\mathbb R ^{n\\times k}, \\mathbf b \\in \\mathbb R^{1 \\times k}$ to denote the weight and bias of linear layer respectively, where $W  = \\left[\\boldsymbol w^{(1)},..., \\boldsymbol w^{(k)}\\right], \\mathbf b = \\left[ b^{(1)},...,b^{(k)} \\right]$. The forward propagation of linear layer can be formulated as:\n",
    "$$\n",
    "\\mathbf y = XW + \\mathbf b,\n",
    "$$\n",
    "where $X \\in \\mathbb R^{m \\times n}$ is the input array, $y \\in \\mathbb R ^{m \\times k}$ is the output array. Here $m$ is the batch size, so we can compute a whole batch of samples together. \n",
    "\n",
    "For backward propagation, we have received an output gradient $\\frac{\\partial \\mathcal L}{\\partial Y}$, which is a $m \\times k$ matrix. And we have:\n",
    "$$\n",
    "\\frac{\\partial \\mathcal L}{\\partial W} = X^T \\frac{\\partial \\mathcal L}{\\partial Y}, \\quad \\frac{\\partial \\mathcal L}{\\partial \\mathbf b} = \\mathbf 1^T \\frac{\\partial \\mathcal L}{\\partial Y}, \\quad \\frac{\\partial \\mathcal L}{\\partial X}= \\frac{\\partial \\mathcal L}{\\partial Y} W^T,\n",
    "$$\n",
    "where $\\mathbf 1 \\in \\mathbb R^m$ is a vector with all elements equal to $1$. \n",
    "For detailed derivation, refer to [Backpropagation for a Linear Layer](http://cs231n.stanford.edu/handouts/linear-backprop.pdf).\n",
    "\n",
    "**Q1. Implement the forward propagation and backward propagation of linear layer.**"
   ]
  },
  {
   "cell_type": "code",
   "execution_count": 3,
   "metadata": {},
   "outputs": [],
   "source": [
    "class Linear(Module):\n",
    "    def __init__(self,input_dim,output_dim):\n",
    "        super(Linear, self).__init__()\n",
    "        # initilize weights\n",
    "        self.W = np.random.randn(input_dim, output_dim) * 1e-2\n",
    "        self.b = np.zeros((1, output_dim))\n",
    "        self.with_weights = True\n",
    "    def forward(self, input_array):\n",
    "        res = np.zeros((input_array.shape[0], self.W.shape[1]))\n",
    "        \n",
    "        ## start of your code\n",
    "        res = input_array @ self.W + self.b\n",
    "        ## end of your code\n",
    "        \n",
    "        return res\n",
    "    def backward(self, input_array, output_gradient, lr = 0.05):\n",
    "        res = np.zeros_like(input_array)\n",
    "        \n",
    "        ## start of your code\n",
    "        # 1. compute new output_gradient, which will be backward-passed to previous layer\n",
    "        res = np.dot(output_gradient, self.W.T)\n",
    "        # 2. compute the gradient and update W, b\n",
    "        self.W = self.W - lr * np.dot(input_array.T, output_gradient)\n",
    "        self.b = self.b - lr * np.dot( np.ones((1, input_array.shape[0])), output_gradient)\n",
    "        ## end of your code\n",
    "        return res"
   ]
  },
  {
   "cell_type": "markdown",
   "metadata": {},
   "source": [
    "Here, we will use a simple example to test our code. We set $m = n = k = 2$, $X = \\begin{bmatrix}2 & 3\\\\4 & 5\\end{bmatrix}$, $W = \\begin{bmatrix}1 & 2\\\\1 & 2\\end{bmatrix}$, $\\mathbf b = \\mathbf 0^T$, $\\frac{\\partial \\mathcal L}{\\partial Y}= \\begin{bmatrix}1 & 1\\\\1 & 1\\end{bmatrix}$. \n",
    "\n",
    "For forward propagation, you should get a result:\n",
    "$$\n",
    "XW + b = \\begin{bmatrix}2 & 3\\\\4 & 5\\end{bmatrix} \\begin{bmatrix}1 & 2\\\\1 & 2\\end{bmatrix} + \\mathbf 0^T =  \\begin{bmatrix}5 & 10\\\\9 & 18\\end{bmatrix}\n",
    "$$\n",
    "\n",
    "For backward propagation, you should get a reult:\n",
    "$$\n",
    "\\frac{\\partial \\mathcal L}{\\partial X} = \\frac{\\partial \\mathcal L}{\\partial Y} W^T = \\begin{bmatrix}1 & 1\\\\1 & 1\\end{bmatrix} \\begin{bmatrix}1 & 1\\\\2 & 2\\end{bmatrix} = \\begin{bmatrix}3 & 3\\\\3 & 3\\end{bmatrix}.\n",
    "$$\n",
    "And the updated parameters should be (here, learning rate is set as $0.05$):\n",
    "$$\n",
    "W := W - \\alpha \\frac{\\partial \\mathcal L}{\\partial W} = W - \\alpha X^T \\frac{\\partial \\mathcal L}{\\partial Y} = \\begin{bmatrix}1 & 2\\\\1 & 2\\end{bmatrix} - 0.05 \\cdot \\begin{bmatrix}2 & 4\\\\3 & 5\\end{bmatrix}\\begin{bmatrix}1 & 1\\\\1 & 1\\end{bmatrix} = \\begin{bmatrix}0.7 & 1.7\\\\0.6 & 1.6\\end{bmatrix}\\\\\n",
    "\\mathbf b := \\mathbf b - \\alpha \\frac{\\partial \\mathcal L}{\\partial \\mathbf b} =\\mathbf b - \\alpha \\mathbf{1}^T \\frac{\\partial \\mathcal L}{\\partial Y} = \\begin{bmatrix}0 & 0\\end{bmatrix}- 0.05 \\cdot \\begin{bmatrix}1 & 1\\end{bmatrix} \\begin{bmatrix}1 & 1\\\\1 & 1\\end{bmatrix} = \\begin{bmatrix}-0.1 & -0.1\\end{bmatrix}\n",
    "$$"
   ]
  },
  {
   "cell_type": "code",
   "execution_count": 4,
   "metadata": {},
   "outputs": [
    {
     "name": "stdout",
     "output_type": "stream",
     "text": [
      "forward:\n",
      " [[ 5. 10.]\n",
      " [ 9. 18.]]\n",
      "backward:\n",
      " [[3. 3.]\n",
      " [3. 3.]]\n",
      "W:\n",
      " [[0.7 1.7]\n",
      " [0.6 1.6]]\n",
      "b:\n",
      " [[-0.1 -0.1]]\n"
     ]
    }
   ],
   "source": [
    "test_linear = Linear(2, 2)\n",
    "input_array = np.array([[2., 3.],[4., 5.]])\n",
    "test_linear.W = np.array([[1., 2.], [1., 2.]])\n",
    "forward_res = test_linear(input_array)\n",
    "print(\"forward:\\n\", forward_res)\n",
    "# output dimension\n",
    "output_gradient =  np.ones((2,2))\n",
    "backward_res = test_linear.backward(input_array, output_gradient, lr=0.05)\n",
    "print(\"backward:\\n\", backward_res)\n",
    "print(\"W:\\n\", test_linear.W)\n",
    "print(\"b:\\n\", test_linear.b)"
   ]
  },
  {
   "cell_type": "markdown",
   "metadata": {},
   "source": [
    "#### Activation layer\n",
    "We will implement two types of activation layers. Activation layers do not change the dimension of input array. Given an activation function, the activation layer will apply the activation function on each element of the input array and get the output that has a same shape with input array. Also, we don't need to update the parameter.\n",
    "\n",
    "![](./fig3.png)\n",
    "\n",
    "##### ReLU\n",
    "ReLU is an activation function defined as the positive part of its argument:\n",
    "$$\n",
    "\\text{R}(x) = x^+ = \\max(0, x).\n",
    "$$\n",
    "We have:\n",
    "$$\n",
    "\\text{R}'(x) = \\left\\{\\begin{matrix}1&x > 0\\\\0 & \\text{otherwise}\\end{matrix}\\right.\n",
    "$$\n",
    "So for backward propagation of ReLU layer, if the input element is negative, the corresponding element in output gradient $\\frac{\\partial \\mathcal L}{\\partial Y}$ will be set to $0$, other elements will stay the same.\n",
    "\n",
    "**Q2. Implement the foroward propagation and backward propagation of ReLU layer.**"
   ]
  },
  {
   "cell_type": "code",
   "execution_count": 5,
   "metadata": {},
   "outputs": [],
   "source": [
    "class ReLU(Module):\n",
    "    def __init__(self):\n",
    "        super(ReLU, self).__init__()\n",
    "        pass\n",
    "    def forward(self, input_array):\n",
    "        res = np.zeros_like(input_array)\n",
    "        \n",
    "        ## start of your code\n",
    "        res = (np.abs(input_array) + input_array) / 2\n",
    "        ## end of your code\n",
    "        \n",
    "        return res\n",
    "    def backward(self, input_array, output_gradient):\n",
    "        res = np.zeros_like(input_array)\n",
    "        ## start of your code\n",
    "        res = (input_array > 0) * output_gradient\n",
    "        ## end of your code\n",
    "        return res"
   ]
  },
  {
   "cell_type": "markdown",
   "metadata": {},
   "source": [
    "To test ReLU layer, we set input $X = \\begin{bmatrix}2 & -2\\\\-2 & 2\\end{bmatrix}$, $\\frac{\\partial \\mathcal L}{\\partial Y}= \\begin{bmatrix}1 & 1\\\\1 & 1\\end{bmatrix}$. \n",
    "\n",
    "For forward propagation, we have a result: \n",
    "$$\n",
    "\\text{R}(X) =  \\begin{bmatrix}2 & 0\\\\0 & 2\\end{bmatrix}.\n",
    "$$\n",
    "For backward propagation, we have a result:\n",
    "$$\n",
    "\\frac{\\partial \\mathcal L}{\\partial X} =  \\begin{bmatrix}1 & 0\\\\0 & 1\\end{bmatrix}.\n",
    "$$"
   ]
  },
  {
   "cell_type": "code",
   "execution_count": 6,
   "metadata": {},
   "outputs": [
    {
     "name": "stdout",
     "output_type": "stream",
     "text": [
      "forward:\n",
      " [[2. 0.]\n",
      " [0. 2.]]\n",
      "backward:\n",
      " [[1. 0.]\n",
      " [0. 1.]]\n"
     ]
    }
   ],
   "source": [
    "test_relu = ReLU()\n",
    "input_array = np.array([[2., -2.],[-2., 2]])\n",
    "forward_res = test_relu(input_array)\n",
    "print(\"forward:\\n\", forward_res)\n",
    "output_gradient =  np.ones((2,2))\n",
    "backward_res = test_relu.backward(input_array, output_gradient)\n",
    "print(\"backward:\\n\", backward_res)"
   ]
  },
  {
   "cell_type": "markdown",
   "metadata": {},
   "source": [
    "##### Sigmoid\n",
    "Sigmoid function is an activation function defined by the formula:\n",
    "$$\n",
    "\\text{S}(x) = \\frac{1}{1 + e^{-x}}.\n",
    "$$\n",
    "We have\n",
    "$$\n",
    "\\text{S}'(x) =\\text{S}(x) \\left(1 - \\text{S}(x)\\right)\n",
    "$$\n",
    "So for backward propagation of Sigmoid layer, we compute $\\text{S}'(x)$ for each input element $x$ and multiply it with the corresponding element in output gradient $\\frac{\\partial \\mathcal L}{\\partial Y}$.\n",
    "\n",
    "**Q3. Implement the forward propagation and backward propagation of Sigmoid layer.**"
   ]
  },
  {
   "cell_type": "code",
   "execution_count": 7,
   "metadata": {},
   "outputs": [],
   "source": [
    "class Sigmoid(Module):\n",
    "    def __init__(self):\n",
    "        super(Sigmoid, self).__init__()    \n",
    "        pass\n",
    "    def forward(self, input_array):\n",
    "        res = np.zeros_like(input_array)\n",
    "        \n",
    "        ## start of your code\n",
    "        res = 1 / (1+np.exp(-input_array))\n",
    "        ## end of your code\n",
    "        \n",
    "        return res\n",
    "    def backward(self, input_array, output_gradient):\n",
    "        res = np.zeros_like(input_array)\n",
    "        \n",
    "        ## start of your code\n",
    "        tmp = np.exp(-input_array)\n",
    "        res = (1 / (1+tmp)) * (tmp / (1+tmp)) * output_gradient\n",
    "        ## end of your code\n",
    "        \n",
    "        return res  "
   ]
  },
  {
   "cell_type": "markdown",
   "metadata": {},
   "source": [
    "To test Sigmoid layer, we set input $X = \\begin{bmatrix}2 & -2\\\\-2 & 2\\end{bmatrix}$, $\\frac{\\partial \\mathcal L}{\\partial Y}= \\begin{bmatrix}1 & 1\\\\1 & 1\\end{bmatrix}$. \n",
    "\n",
    "For forward propagation, we have a result: \n",
    "$$\n",
    "\\text{S}(X) =  \\begin{bmatrix}0.88079708 &0.26894142\\\\0.26894142 & 0.88079708\\end{bmatrix}.\n",
    "$$\n",
    "For backward propagation, we have a result:\n",
    "$$\n",
    "\\frac{\\partial \\mathcal L}{\\partial X} =  \\begin{bmatrix}0.10499359 & 0.19661193\\\\0.19661193 & 0.10499359\\end{bmatrix}.\n",
    "$$"
   ]
  },
  {
   "cell_type": "code",
   "execution_count": 8,
   "metadata": {},
   "outputs": [
    {
     "name": "stdout",
     "output_type": "stream",
     "text": [
      "forward:\n",
      " [[0.88079708 0.26894142]\n",
      " [0.26894142 0.88079708]]\n",
      "backward:\n",
      " [[0.10499359 0.19661193]\n",
      " [0.19661193 0.10499359]]\n"
     ]
    }
   ],
   "source": [
    "test_sigmoid = Sigmoid()\n",
    "input_array = np.array([[2., -1.],[-1., 2]])\n",
    "forward_res = test_sigmoid(input_array)\n",
    "print(\"forward:\\n\", forward_res)\n",
    "output_gradient =  np.ones((2,2))\n",
    "backward_res = test_sigmoid.backward(input_array, output_gradient)\n",
    "print(\"backward:\\n\", backward_res)"
   ]
  },
  {
   "cell_type": "markdown",
   "metadata": {},
   "source": [
    "#### MSELoss\n",
    "To train our model, we need to define our loss function.Because we want to do a regression problem, we will use mean squared error (MSE) as our loss function:\n",
    "$$\n",
    "\\text{MSE} = \\frac{1}{m}\\sum_{i=1}^m\\left(\\hat y^{(i)} - y^{(i)}\\right)^2\n",
    "$$\n",
    "Loss can be considered as a special layer. In forward propagation, it takes the predicted value and true value as input and returns the error. For backward propagation, it will compute the gradients of output layer. Note that we don't need a output gradient here, because it's the final layer in training process.\n",
    "\n",
    "**Q4. Implement the forward propagation and backward propagation of MSELoss layer.**"
   ]
  },
  {
   "cell_type": "code",
   "execution_count": 9,
   "metadata": {},
   "outputs": [],
   "source": [
    "class MSELoss(Module):\n",
    "    def __init__(self):\n",
    "        super(MSELoss, self).__init__()   \n",
    "        pass\n",
    "    def forward(self, predicted_y, y):\n",
    "        res = 1e5\n",
    "        \n",
    "        ## start of your code\n",
    "        res = np.sum(np.power(predicted_y - y, 2)) / y.shape[0]\n",
    "        ## end of your code\n",
    "        \n",
    "        return res\n",
    "    def backward(self, predicted_y, y):\n",
    "        \n",
    "        ## start of your code\n",
    "        res = 2 * (predicted_y - y) / y.shape[0] \n",
    "        ## end of your code\n",
    "        \n",
    "        return res"
   ]
  },
  {
   "cell_type": "markdown",
   "metadata": {},
   "source": [
    "To test MSELoss, we set predicted value $\\hat{ \\mathbf y} = \\begin{bmatrix}1 \\\\1\\end{bmatrix}$ and true value $\\mathbf y = \\begin{bmatrix}1.5 \\\\1.5\\end{bmatrix}$. \n",
    "\n",
    "For forward propagation, we have a result: \n",
    "$$\n",
    "\\text{MSE}  =  0.25.\n",
    "$$\n",
    "For backward propagation, we have a result:\n",
    "$$\n",
    "\\frac{\\partial \\mathcal L}{\\partial \\hat{ \\mathbf y}} =  \\begin{bmatrix}-0.5 \\\\ -0.5\\end{bmatrix}.\n",
    "$$"
   ]
  },
  {
   "cell_type": "code",
   "execution_count": 10,
   "metadata": {},
   "outputs": [
    {
     "name": "stdout",
     "output_type": "stream",
     "text": [
      "forward:\n",
      " 0.25\n",
      "backward:\n",
      " [[-0.5]\n",
      " [-0.5]]\n"
     ]
    }
   ],
   "source": [
    "test_mse = MSELoss()\n",
    "pred_y = np.array([[1], [1]])\n",
    "true_y = np.array([[1.5], [1.5]])\n",
    "forward_res = test_mse(pred_y, true_y)\n",
    "print(\"forward:\\n\", forward_res)\n",
    "backward_res = test_mse.backward(pred_y, true_y)\n",
    "print(\"backward:\\n\", backward_res)"
   ]
  },
  {
   "cell_type": "markdown",
   "metadata": {},
   "source": [
    "#### Simple Neural Network\n",
    "By now, we can actually design a neural network with all these layers and loss function. Here, we define a new class to connect all the components.  You just need to list all the layers you want to use by order, and input the list and loss function when construct the model. \n",
    "\n",
    "In `forward` function, we will start from the first layer, which takes the original features as input, and the output will be the input data for the next layer. We use a for-loop for forward propagation. All the intermediate input array will be stored for later backward propagation. \n",
    "\n",
    "In `backword` function, we firstly compute the loss and output gradient generated from loss function. Then, this output gradient will be passed to output layer. Start from the output layer, we update the parameters and backward-pass the output gradient to previous layers through a reversed for-loop. \n",
    "\n",
    "Therefore, by calling `forward` and `backward`, our model will automatically do the propagation and update parameters. However, you need to make sure your design is reasonable. *If the dimensions between different layers don't match, there will be errors.*"
   ]
  },
  {
   "cell_type": "code",
   "execution_count": 11,
   "metadata": {},
   "outputs": [],
   "source": [
    "class SimpleNN(Module):\n",
    "    def __init__(self, layers, loss, lr = 0.005):\n",
    "        super(SimpleNN, self).__init__()    \n",
    "        self.layers = layers\n",
    "        self.loss = loss\n",
    "        self.inputs = [None for _ in range(len(self.layers))]\n",
    "        self.output = None\n",
    "        self.loss_value = 1e5\n",
    "        self.lr = lr\n",
    "        pass\n",
    "    def forward(self, input_array):\n",
    "        current_input = input_array\n",
    "        for i in range(len(self.layers)):\n",
    "            self.inputs[i] = current_input\n",
    "            current_input = self.layers[i](current_input)\n",
    "        self.output = current_input\n",
    "        return self.output\n",
    "    def backward(self, y):\n",
    "        if self.inputs[-1] is None:\n",
    "            print(\"call forward first.\")\n",
    "            return\n",
    "        self.loss_value = self.loss(self.output, y)\n",
    "        output_gradient = self.loss.backward(self.output, y)\n",
    "        for i in range(len(self.layers)-1, -1, -1):\n",
    "            if self.layers[i].with_weights:\n",
    "                output_gradient = self.layers[i].backward(self.inputs[i], output_gradient, self.lr)\n",
    "            else:\n",
    "                output_gradient = self.layers[i].backward(self.inputs[i], output_gradient)\n",
    "        self.output = None"
   ]
  },
  {
   "cell_type": "markdown",
   "metadata": {},
   "source": [
    "### Train the model\n",
    "Here, we will design a simple neural network. The structure of our model is shown in following figure:\n",
    "\n",
    "![](./fig4.png)\n",
    "Our model contains:\n",
    "- L0, Input layer (shape: $N \\times 1$), where $N$ is the batch size.\n",
    "- L1, Linear layer (shape: $1 \\times 80$)\n",
    "- L2, ReLU layer\n",
    "- L3, Linear layer (shape: $80 \\times 80$)\n",
    "- L4, ReLU layer\n",
    "- L5, Output layer (linear layer, shape: $80 \\times 1$)"
   ]
  },
  {
   "cell_type": "code",
   "execution_count": 12,
   "metadata": {},
   "outputs": [],
   "source": [
    "layers = [\n",
    "    # input layer is input data\n",
    "    # L1\n",
    "    Linear(1, 80),\n",
    "    # L2\n",
    "    ReLU(),\n",
    "    # L3\n",
    "    Linear(80, 80),\n",
    "    # L4\n",
    "    ReLU(),\n",
    "    # L5\n",
    "    Linear(80, 1)\n",
    "]\n",
    "loss = MSELoss()\n",
    "model = SimpleNN(layers, loss, lr=0.05)"
   ]
  },
  {
   "cell_type": "markdown",
   "metadata": {},
   "source": [
    "We use this model to approximate the sine function. Our training set $\\left\\{x^{(i)}, y^{(i)}: i=1,2, \\ldots, m\\right\\}$ is generated by \n",
    "$$\n",
    "y^{(i)}=\\sin x^{(i)}, \\quad \\forall i.\n",
    "$$"
   ]
  },
  {
   "cell_type": "code",
   "execution_count": 13,
   "metadata": {},
   "outputs": [],
   "source": [
    "x = np.linspace(-np.pi, np.pi, 100).reshape(-1, 1) \n",
    "y = np.sin(x)"
   ]
  },
  {
   "cell_type": "markdown",
   "metadata": {},
   "source": [
    "Now, train our model and plot the results."
   ]
  },
  {
   "cell_type": "code",
   "execution_count": 14,
   "metadata": {
    "scrolled": true
   },
   "outputs": [
    {
     "name": "stdout",
     "output_type": "stream",
     "text": [
      "epoch 0/20000, loss: 0.4950344386374714\n",
      "epoch 500/20000, loss: 0.10912409617317062\n",
      "epoch 1000/20000, loss: 0.032890544200878766\n",
      "epoch 1500/20000, loss: 0.004604287899363108\n",
      "epoch 2000/20000, loss: 0.0012845106453208402\n",
      "epoch 2500/20000, loss: 0.0005281073091203445\n",
      "epoch 3000/20000, loss: 0.00027648723912179274\n",
      "epoch 3500/20000, loss: 0.0001599745874893538\n",
      "epoch 4000/20000, loss: 0.00010404300176009772\n"
     ]
    },
    {
     "data": {
      "text/plain": [
       "<matplotlib.legend.Legend at 0x23726688a20>"
      ]
     },
     "execution_count": 14,
     "metadata": {},
     "output_type": "execute_result"
    },
    {
     "data": {
      "image/png": "[encoded data removed]",
      "text/plain": [
       "<Figure size 1080x576 with 1 Axes>"
      ]
     },
     "metadata": {
      "needs_background": "light"
     },
     "output_type": "display_data"
    }
   ],
   "source": [
    "epoch = 0\n",
    "max_iteration = 20000\n",
    "plt.figure(figsize=(15, 8))\n",
    "pred_y = model(x)\n",
    "plt.plot(x, pred_y, label=\"init\")\n",
    "plt.plot(x, y, label=\"true\")\n",
    "while epoch < max_iteration and model.loss_value > 1e-4:\n",
    "    pred_y = model(x)\n",
    "    model.backward(y)\n",
    "    if epoch % 500 == 0:\n",
    "        print(r'epoch {}/{}, loss: {}'.format(epoch, max_iteration, model.loss_value))\n",
    "    epoch += 1\n",
    "plt.plot(x, pred_y, label=\"pred\")\n",
    "plt.legend()"
   ]
  },
  {
   "cell_type": "markdown",
   "metadata": {},
   "source": [
    "### Analytical questions and bonus\n",
    "**Q4. Try to use Sigmoid as the activation function. Change the size of dataset and compare the training speed and results.**"
   ]
  },
  {
   "cell_type": "markdown",
   "metadata": {},
   "source": [
    "**Your answer:**"
   ]
  },
  {
   "cell_type": "markdown",
   "metadata": {},
   "source": [
    "**Q5. Try to remove all the activation layers. Compare the results and analyze the role of activation layers.**"
   ]
  },
  {
   "cell_type": "markdown",
   "metadata": {},
   "source": [
    "**Your answer:**"
   ]
  },
  {
   "cell_type": "markdown",
   "metadata": {},
   "source": [
    "### Bonus\n",
    "**Q6. Add L2 regularization for linear layer.**\n",
    "\n",
    "**Q7. We have learned logistic regression for binary classification task, here we can actually build a network for the same task. The output of Sigmoid layer can be considered as probability, and we have Logistic loss:**\n",
    "$$\n",
    "\\text{Logistic} = - \\frac{1}{m}\\sum_{i=1}^m y^{(i)}\\log p^{(i)}+ \\left(1 -  y^{(i)}\\right)\\log\\left(1 - p^{(i)}\\right)\n",
    "$$\n",
    "**Now, implement Logistic loss.** "
   ]
  },
  {
   "cell_type": "code",
   "execution_count": 15,
   "metadata": {},
   "outputs": [],
   "source": [
    "class LogisticLoss(Module):\n",
    "    def __init__(self):\n",
    "        super(LogisticLoss, self).__init__()   \n",
    "        pass\n",
    "    def forward(self, pred_prob, y):\n",
    "        res = 1e7\n",
    "        pred_prob += 1e-5 * (pred_prob == 0)\n",
    "        \n",
    "        ## start of your code\n",
    "#         res = -( np.sum(y * np.log( pred_prob)) + np.sum((1 - y) * np.log(1 - pred_prob)))/ y.shape[0]\n",
    "        res = -(1/y.shape[0]*np.sum(np.multiply(y, np.log(pred_prob)) + np.multiply((1 - y), np.log(1 - pred_prob))))\n",
    "        ## end of your code\n",
    "        \n",
    "        return res \n",
    "    def backward(self, pred_prob, y):\n",
    "        res = np.zeros_like(input_array)\n",
    "        pred_prob += 1e-5 * (pred_prob == 0)\n",
    "        \n",
    "        ## start of your code\n",
    "#         res = - (y / pred_prob -(1-y) / (1 - pred_prob)) / y.shape[0]\n",
    "        res = -(1/y.shape[0] * (y/pred_prob - (1-y) / (1 - pred_prob)))\n",
    "        ## end of your code\n",
    "        \n",
    "        return res"
   ]
  },
  {
   "cell_type": "markdown",
   "metadata": {},
   "source": [
    "We can re-use previous functions in `logistic_regression.ipynb` to generate our classification dataset. The number of feature is set to $1$."
   ]
  },
  {
   "cell_type": "code",
   "execution_count": 16,
   "metadata": {},
   "outputs": [],
   "source": [
    "# functions in logistic_regression.ipynb\n",
    "def sigmoid(x):\n",
    "    return 1 / (1 + np.exp(-x))\n",
    "def predict_probability(X, theta):\n",
    "    return sigmoid(X@theta)\n",
    "def predict_label(X, theta):\n",
    "    return (predict_probability(X, theta) > 0.5).astype(float)\n",
    "def generate_binary_classification_data(num_samples, theta, bias = True):\n",
    "    if bias == False:\n",
    "        X = (np.random.rand(num_samples, theta.shape[0]) - 0.5) * 4\n",
    "    else:\n",
    "        # place the center of X on (-bias)\n",
    "        X = (np.random.rand(num_samples, theta.shape[0] - 1) - 0.5) * 4 - theta[-1]\n",
    "        # add another dimension for bias\n",
    "        X = np.insert(X, X.shape[1], 1, axis=1)\n",
    "    y = predict_label(X, theta)\n",
    "    return X, y\n",
    "theta_ = np.array([1, 1])\n",
    "x, y = generate_binary_classification_data(100, theta_, True)\n",
    "x = np.delete(x, -1, axis=1) \n",
    "y = y.reshape((-1, 1))"
   ]
  },
  {
   "cell_type": "markdown",
   "metadata": {},
   "source": [
    "Now, build a network for binary classification problem. The output layer is a Sigmoid layer."
   ]
  },
  {
   "cell_type": "code",
   "execution_count": 17,
   "metadata": {},
   "outputs": [],
   "source": [
    "layers = [\n",
    "    Linear(1, 80),\n",
    "    Linear(80, 1),\n",
    "    Sigmoid()\n",
    "]\n",
    "\n",
    "loss = LogisticLoss()\n",
    "model = SimpleNN(layers, loss, lr = 0.001)"
   ]
  },
  {
   "cell_type": "markdown",
   "metadata": {},
   "source": [
    "Finally, train the model and visualize the results."
   ]
  },
  {
   "cell_type": "code",
   "execution_count": 18,
   "metadata": {},
   "outputs": [
    {
     "name": "stdout",
     "output_type": "stream",
     "text": [
      "epoch 0/20000, loss: 0.6931024050901361\n",
      "epoch 500/20000, loss: 0.6893755766194988\n",
      "epoch 1000/20000, loss: 0.6854984786491233\n",
      "epoch 1500/20000, loss: 0.6806988215155306\n",
      "epoch 2000/20000, loss: 0.6740296931304726\n",
      "epoch 2500/20000, loss: 0.6642690193565344\n",
      "epoch 3000/20000, loss: 0.6499329232293718\n",
      "epoch 3500/20000, loss: 0.6295372100029659\n",
      "epoch 4000/20000, loss: 0.6022240217280707\n",
      "epoch 4500/20000, loss: 0.5685642790403175\n",
      "epoch 5000/20000, loss: 0.5308195222147797\n",
      "epoch 5500/20000, loss: 0.4920702583143065\n",
      "epoch 6000/20000, loss: 0.45484879631795816\n",
      "epoch 6500/20000, loss: 0.42049717866429687\n",
      "epoch 7000/20000, loss: 0.38941454158098354\n",
      "epoch 7500/20000, loss: 0.36153625960133284\n",
      "epoch 8000/20000, loss: 0.3366381517687933\n",
      "epoch 8500/20000, loss: 0.3144581737470257\n",
      "epoch 9000/20000, loss: 0.2947319244948479\n",
      "epoch 9500/20000, loss: 0.2772021053149362\n",
      "epoch 10000/20000, loss: 0.26162312261907444\n",
      "epoch 10500/20000, loss: 0.24776507500758155\n",
      "epoch 11000/20000, loss: 0.2354169178049403\n",
      "epoch 11500/20000, loss: 0.22438830611736404\n",
      "epoch 12000/20000, loss: 0.21451007282143975\n",
      "epoch 12500/20000, loss: 0.2056336075570533\n",
      "epoch 13000/20000, loss: 0.19762949529686624\n",
      "epoch 13500/20000, loss: 0.1903857413183161\n",
      "epoch 14000/20000, loss: 0.18380583250386784\n",
      "epoch 14500/20000, loss: 0.17780680502803314\n",
      "epoch 15000/20000, loss: 0.1723174223945895\n",
      "epoch 15500/20000, loss: 0.1672765191297744\n",
      "epoch 16000/20000, loss: 0.16263153241654751\n",
      "epoch 16500/20000, loss: 0.15833722312628853\n",
      "epoch 17000/20000, loss: 0.15435457563445884\n",
      "epoch 17500/20000, loss: 0.15064985965963204\n",
      "epoch 18000/20000, loss: 0.147193835008767\n",
      "epoch 18500/20000, loss: 0.14396108003809993\n",
      "epoch 19000/20000, loss: 0.14092942583271037\n",
      "epoch 19500/20000, loss: 0.1380794799138257\n"
     ]
    },
    {
     "data": {
      "text/plain": [
       "<matplotlib.legend.Legend at 0x23726d385f8>"
      ]
     },
     "execution_count": 18,
     "metadata": {},
     "output_type": "execute_result"
    },
    {
     "data": {
      "image/png": "[encoded data removed]",
      "text/plain": [
       "<Figure size 1080x576 with 1 Axes>"
      ]
     },
     "metadata": {
      "needs_background": "light"
     },
     "output_type": "display_data"
    }
   ],
   "source": [
    "epoch = 0\n",
    "max_iteration = 20000\n",
    "plt.figure(figsize=(15, 8))\n",
    "plt.scatter(x, y, label=\"samples\")\n",
    "plot_x = np.linspace(np.min(x), np.max(x), 100).reshape((-1, 1))\n",
    "plt.plot(plot_x, model(plot_x), c=\"green\", label=\"init\")\n",
    "while epoch < max_iteration:\n",
    "    model(x)\n",
    "    model.backward(y)\n",
    "    if epoch % 500 == 0:\n",
    "        print(r'epoch {}/{}, loss: {}'.format(epoch, max_iteration, model.loss_value))\n",
    "    epoch += 1\n",
    "plt.plot(plot_x, model(plot_x), c=\"orange\", label=\"pred\")\n",
    "plt.legend()"
   ]
  }
 ],
 "metadata": {
  "kernelspec": {
   "display_name": "Python 3",
   "language": "python",
   "name": "python3"
  },
  "language_info": {
   "codemirror_mode": {
    "name": "ipython",
    "version": 3
   },
   "file_extension": ".py",
   "mimetype": "text/x-python",
   "name": "python",
   "nbconvert_exporter": "python",
   "pygments_lexer": "ipython3",
   "version": "3.7.0"
  }
 },
 "nbformat": 4,
 "nbformat_minor": 4
}
